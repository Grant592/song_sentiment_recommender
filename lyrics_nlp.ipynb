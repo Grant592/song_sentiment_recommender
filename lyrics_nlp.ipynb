{
 "cells": [
  {
   "cell_type": "markdown",
   "metadata": {},
   "source": [
    "# NLP"
   ]
  },
  {
   "cell_type": "code",
   "execution_count": 13,
   "metadata": {},
   "outputs": [],
   "source": [
    "import sqlite3\n",
    "import numpy as np\n",
    "import pandas as pd\n",
    "import matplotlib.pyplot as plt\n",
    "import os\n",
    "import json"
   ]
  },
  {
   "cell_type": "code",
   "execution_count": 2,
   "metadata": {},
   "outputs": [],
   "source": [
    "def connect_to_database(PATH1, attach=None):\n",
    "    if os.path.isfile(PATH1):\n",
    "        conn = sqlite3.connect(PATH1)\n",
    "        cursor = conn.cursor()\n",
    "    else:\n",
    "        print(\"Database file does not exists\")\n",
    "        \n",
    "    if attach:\n",
    "        if os.path.isfile(attach):\n",
    "            cursor.execute(f\"ATTACH '{attach}' AS meta\")\n",
    "        else:\n",
    "            print(\"Attach database file note found\")\n",
    "    \n",
    "    return cursor\n",
    "\n",
    "cursor = connect_to_database('mxm_dataset.db', 'track_metadata.db')"
   ]
  },
  {
   "cell_type": "code",
   "execution_count": 3,
   "metadata": {},
   "outputs": [
    {
     "name": "stdout",
     "output_type": "stream",
     "text": [
      "[(237662,)]\n",
      "[(1000000,)]\n"
     ]
    },
    {
     "data": {
      "text/plain": [
       "<sqlite3.Cursor at 0x7f94ce3c3c00>"
      ]
     },
     "execution_count": 3,
     "metadata": {},
     "output_type": "execute_result"
    }
   ],
   "source": [
    "# How many songs in lyrics database?\n",
    "# How many in track metadata?\n",
    "# Create a view consisting of just the tracks and data in lyrics database\n",
    "query = \"\"\"SELECT\n",
    "                COUNT(DISTINCT(track_id))\n",
    "            FROM\n",
    "                lyrics\n",
    "        \"\"\"\n",
    "cursor.execute(query)\n",
    "num_lyric_tracks = cursor.fetchall()\n",
    "print(num_lyric_tracks)\n",
    "\n",
    "query = \"\"\"SELECT\n",
    "                COUNT(DISTINCT(track_id)) \n",
    "           FROM \n",
    "                meta.songs\n",
    "        \"\"\"\n",
    "\n",
    "cursor.execute(query)\n",
    "num_tracks_total = cursor.fetchall()\n",
    "print(num_tracks_total)\n",
    "\n",
    "query = \"\"\"CREATE TABLE if not exists\n",
    "                lyric_metadata\n",
    "            AS\n",
    "            SELECT \n",
    "                * \n",
    "            FROM \n",
    "                meta.songs\n",
    "            WHERE\n",
    "                meta.songs.track_id\n",
    "            IN\n",
    "                (SELECT\n",
    "                     DISTINCT(track_id)\n",
    "                 FROM\n",
    "                     lyrics)\"\"\"\n",
    "cursor.execute(query)"
   ]
  },
  {
   "cell_type": "code",
   "execution_count": 11,
   "metadata": {},
   "outputs": [],
   "source": [
    "def link_track_to_lyrics(cursor, track_id):\n",
    "    \n",
    "    \"\"\"For each track_id, fill the dictionary with each word and it's corresponding count\"\"\"\n",
    "    query = \"\"\"SELECT word, count FROM lyrics WHERE track_id = ?\"\"\"\n",
    "    id = (track_id,)\n",
    "    cursor.execute(query, id)\n",
    "    word_counts = dict(cursor.fetchall())\n",
    "    \n",
    "    return word_counts\n",
    "\n",
    "def extract_track_ids(cursor):\n",
    "    \"\"\"Extract all the distinct track_ids to iterate through and create bag of words\"\"\"\n",
    "    \n",
    "    query = \"\"\"SELECT DISTINCT(track_id) FROM lyrics\"\"\"\n",
    "    cursor.execute(query)\n",
    "    track_ids = cursor.fetchall()\n",
    "    track_lyric_dict = {id[0]:link_track_to_lyrics(cursor, id[0]) for id in track_ids}\n",
    "    \n",
    "    return track_lyric_dict\n",
    "    \n",
    "def map_words_to_tracks(cursor):\n",
    "    \n",
    "    \"\"\"Bag of words for each track are in long format. This function takes\n",
    "    these data and transforms them into 1 row for each song\"\"\"\n",
    "    \n",
    "    query = \"\"\"SELECT word FROM words\"\"\"\n",
    "    cursor.execute(query)\n",
    "    words = cursor.fetchall()\n",
    "    words = [word[0] for word in words]\n",
    "    word_mappings = {i:word for i, word in enumerate(words)}\n",
    "    \n",
    "    track_lyric_dict = extract_track_ids(cursor)\n",
    "    track_lyric_mappings = {i:track for i,track in enumerate(track_lyric_dict.keys())}\n",
    "    n_rows = len(track_lyric_dict)\n",
    "    n_cols = len(words)\n",
    "    matrix = np.zeros([n_rows, n_cols])\n",
    "    \n",
    "    if not os.path.isfile(\"track_word_matrix.npy\"):\n",
    "        for track_index, track in track_lyric_mappings.items():\n",
    "            for word_index, word in word_mappings.items():\n",
    "                matrix[track_index, word_index] = track_lyric_dict[track].get(word, 0)\n",
    "    else:\n",
    "        matrix = np.load(\"track_word_matrix.npy\")\n",
    "        matrix = matrix1[:]\n",
    "        del matrix1\n",
    "            \n",
    "    return word_mappings, track_lyric_mappings, matrix\n",
    "    \n",
    "    \n",
    "word_mappings, track_lyric_mappings ,track_word_matrix = map_words_to_tracks(cursor)"
   ]
  },
  {
   "cell_type": "code",
   "execution_count": 15,
   "metadata": {},
   "outputs": [],
   "source": [
    "with open('word_mappings', 'w') as f:\n",
    "    json.dump(word_mappings, f)"
   ]
  },
  {
   "cell_type": "code",
   "execution_count": 16,
   "metadata": {},
   "outputs": [],
   "source": [
    "with open('track_lyric_mapping', 'w') as f:\n",
    "    json.dump(track_lyric_mappings, f)"
   ]
  },
  {
   "cell_type": "code",
   "execution_count": 6,
   "metadata": {},
   "outputs": [],
   "source": [
    "np.save('track_word_matrix.npy', track_word_matrix)"
   ]
  },
  {
   "cell_type": "code",
   "execution_count": 12,
   "metadata": {},
   "outputs": [],
   "source": [
    "# Free up memory\n",
    "del word_mappings\n",
    "del track_lyric_mappings\n",
    "del tf_idf_matrix\n",
    "del track_word_matrix"
   ]
  },
  {
   "cell_type": "code",
   "execution_count": 8,
   "metadata": {},
   "outputs": [],
   "source": [
    "## Calucuating tf-idf - http://www.tfidf.com/\n",
    "\n",
    "def tf_matrix(matrix):\n",
    "    \"\"\"Caluclate the relative word frequency for each word in a song\"\"\"\n",
    "    tf_matrix = matrix / matrix.sum(axis=1).reshape(-1,1)\n",
    "    \n",
    "    return tf_matrix\n",
    "\n",
    "def idf_matrix(matrix):\n",
    "    \"\"\"Calculate IDF\"\"\"\n",
    "    total_tracks = matrix.shape[0]\n",
    "    track_with_words = (matrix > 0).sum(axis=0).reshape(1,-1)\n",
    "    idf = np.log(total_tracks / track_with_words)\n",
    "    \n",
    "    return idf\n",
    "\n",
    "def tf_idf(matrix):\n",
    "    \"\"\"Calculate tf-idf\"\"\"\n",
    "    tf = tf_matrix(matrix)\n",
    "    idf = idf_matrix(matrix)\n",
    "    return tf * idf    \n",
    "    \n",
    "\n",
    "tf_idf_matrix = tf_idf(track_word_matrix)"
   ]
  },
  {
   "cell_type": "code",
   "execution_count": 9,
   "metadata": {},
   "outputs": [],
   "source": [
    "# Save arrays for use in Dash app\n",
    "np.save('tf_idf_matrix.npy', tf_idf_matrix)"
   ]
  },
  {
   "cell_type": "code",
   "execution_count": 7,
   "metadata": {},
   "outputs": [],
   "source": [
    "## cosine similarity \n",
    "# dot product(a,b) /length(a)*length(b)\n",
    "# Given a song, find 10 most similar\n",
    "\n",
    "# Create track_id mapper\n",
    "def calc_10_most_similar(song_id, tf_idf_matrix, n=10):\n",
    "    \"\"\"Returns the index of the 10 most similar songs as well as a cosine similarity score\"\"\"\n",
    "    numerator = np.dot(tf_idf_matrix, tf_idf_matrix[song_id,:].reshape(-1,1))\n",
    "    denominator = np.linalg.norm(tf_idf_matrix[song_id]) * np.linalg.norm(tf_idf_matrix, axis=1).reshape(-1,1)\n",
    "    cosine_sim = (numerator / denominator).reshape(-1)\n",
    "    sort_indices = np.argsort(-cosine_sim)\n",
    "    return sort_indices[:n], cosine_sim"
   ]
  },
  {
   "cell_type": "code",
   "execution_count": 8,
   "metadata": {},
   "outputs": [],
   "source": [
    "def extract_most_similar_names(song_id, tf_idf_matrix):\n",
    "    \"\"\"From a given song ID, returns the top n songs (artist and track) as well as cosine similarity\"\"\"\n",
    "    sort_indices, cosine_sim = calc_10_most_similar(song_id, tf_idf_matrix)\n",
    "    \n",
    "    # Return the track_ids of the top n most similar along with cosine similarity\n",
    "    top_n = [track_lyric_mappings[x] for x in sort_indices]\n",
    "    cosine_sim = [x for x in cosine_sim[sort_indices]]\n",
    "    \n",
    "    songs = []\n",
    "    for idx, song in enumerate(top_n):\n",
    "        query_str = (song,)\n",
    "        cursor.execute(\"SELECT title, artist_name FROM lyric_metadata WHERE track_id = ?\", query_str)\n",
    "        song = cursor.fetchall()\n",
    "        songs.append((*song,cosine_sim[idx]))\n",
    "                     \n",
    "    return songs\n"
   ]
  },
  {
   "cell_type": "code",
   "execution_count": 34,
   "metadata": {},
   "outputs": [
    {
     "data": {
      "text/plain": [
       "58041"
      ]
     },
     "execution_count": 34,
     "metadata": {},
     "output_type": "execute_result"
    }
   ],
   "source": [
    "def track_id_to_index(track_id, track_lyric_mappings):\n",
    "    for key, value in track_lyric_mappings.items():\n",
    "        if value == track_id:\n",
    "            return int(key)\n",
    "        \n",
    "track_id_to_index(\"TRGIATU128F427878D\", tl)"
   ]
  },
  {
   "cell_type": "code",
   "execution_count": 138,
   "metadata": {},
   "outputs": [
    {
     "data": {
      "text/plain": [
       "[(('The Rising', 'Bruce Springsteen'), 1.0),\n",
       " (('Prickly Thorn_ But Sweetly Worn (Live)', 'The White Stripes'),\n",
       "  0.8718244730848413),\n",
       " (('Toe Hold (LP Version)', 'Wilson Pickett'), 0.7876098977053478),\n",
       " (('We Live', 'Bosson'), 0.7832116066128567),\n",
       " (('Ilham', 'Souad Massi'), 0.7189643953697207),\n",
       " (('Denia', 'Manu Chao'), 0.6570293712624922),\n",
       " (('Hagda Wala Akter', 'Souad Massi'), 0.6217219904757953),\n",
       " (('The Last Polka', 'Ben Folds Five'), 0.5797917438223231),\n",
       " (('The Last Polka', 'Ben Folds'), 0.5751670401107143),\n",
       " (('Omri', 'Faudel'), 0.5231962553654297)]"
      ]
     },
     "execution_count": 138,
     "metadata": {},
     "output_type": "execute_result"
    }
   ],
   "source": [
    "extract_most_similar_names(58041, tf_idf_matrix)"
   ]
  },
  {
   "cell_type": "code",
   "execution_count": 5,
   "metadata": {},
   "outputs": [],
   "source": [
    "query = \"\"\"SELECT artist_name, title FROM lyric_metadata\"\"\"\n",
    "cursor.execute(query)\n",
    "artist_song_list = cursor.fetchall()\n",
    "artist_list = set([x[0] for x in artist_song_list])"
   ]
  },
  {
   "cell_type": "markdown",
   "metadata": {},
   "source": [
    "## Using np.memmap to load the numpy arrays in blocks that fit into memory"
   ]
  },
  {
   "cell_type": "code",
   "execution_count": 4,
   "metadata": {},
   "outputs": [],
   "source": [
    "n_rows = 237662\n",
    "n_cols = 5000\n",
    "\n",
    "data = np.load('tf_idf_matrix.npy', mmap_mode='r')"
   ]
  }
 ],
 "metadata": {
  "kernelspec": {
   "display_name": "tf-gpu",
   "language": "python",
   "name": "tf-gpu"
  },
  "language_info": {
   "codemirror_mode": {
    "name": "ipython",
    "version": 3
   },
   "file_extension": ".py",
   "mimetype": "text/x-python",
   "name": "python",
   "nbconvert_exporter": "python",
   "pygments_lexer": "ipython3",
   "version": "3.7.7"
  }
 },
 "nbformat": 4,
 "nbformat_minor": 4
}
